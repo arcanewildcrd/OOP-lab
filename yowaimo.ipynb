{
 "cells": [
  {
   "cell_type": "code",
   "execution_count": 1,
   "id": "3870986f",
   "metadata": {},
   "outputs": [
    {
     "name": "stdout",
     "output_type": "stream",
     "text": [
      "4000\n",
      "-6000\n"
     ]
    }
   ],
   "source": [
    "class ATM:\n",
    "    def __init__(self, balance):\n",
    "        self.balance = balance\n",
    "        \n",
    "acc =  ATM(4000)\n",
    "print(acc.balance)\n",
    "\n",
    "acc.balance = -6000\n",
    "print(acc.balance)\n",
    "        "
   ]
  },
  {
   "cell_type": "code",
   "execution_count": 21,
   "id": "22a5b480",
   "metadata": {},
   "outputs": [
    {
     "name": "stdout",
     "output_type": "stream",
     "text": [
      "New balance 6000\n",
      "New balance 5400\n"
     ]
    }
   ],
   "source": [
    "#encapsulatiion\n",
    "class ATM:\n",
    "    def __init__(self, balance):\n",
    "        self.__balance = balance\n",
    "        \n",
    "    def deposit(self, amount):\n",
    "        if amount > 0:\n",
    "            self.__balance += amount  \n",
    "            \n",
    "        else:\n",
    "            print('Deposits must be positive')\n",
    "        \n",
    "        \n",
    "    def withdraw(self, amount):\n",
    "        if 0 < amount <= self.__balance:\n",
    "            self.__balance -= amount \n",
    "            \n",
    "        else:\n",
    "            print('Insufficient balance')\n",
    "            \n",
    "            \n",
    "            \n",
    "    def getcheck_balance(self):\n",
    "        return self.__balance\n",
    "    \n",
    "    \n",
    "    \n",
    "acc =  ATM(4000)\n",
    "\n",
    "acc.deposit(2000)\n",
    "print(f'New balance {acc.getcheck_balance()}')\n",
    "acc.withdraw(600)\n",
    "print(f'New balance {acc.getcheck_balance()}')\n",
    "\n",
    "        "
   ]
  },
  {
   "cell_type": "code",
   "execution_count": 3,
   "id": "37c7cf51",
   "metadata": {},
   "outputs": [],
   "source": [
    "class Student:\n",
    "    def __init__(self, name, age, gpa):\n",
    "        self.name = name # public \n",
    "        self._age = 23 # protected\n",
    "        self.__gpa = gpa # private"
   ]
  },
  {
   "cell_type": "code",
   "execution_count": null,
   "id": "faade2a0",
   "metadata": {},
   "outputs": [
    {
     "name": "stdout",
     "output_type": "stream",
     "text": [
      "Kyoraku Shinsui\n",
      "23\n",
      "3.5\n"
     ]
    }
   ],
   "source": [
    "s = Student('Kyoraku Shinsui',23, 3.5)\n",
    "print(s.name)          # public \n",
    "print(s._age)\n",
    "#print(s.__gpa)\n",
    "print(s._Student__gpa)  #mangled access"
   ]
  },
  {
   "cell_type": "code",
   "execution_count": 29,
   "id": "310a477b",
   "metadata": {},
   "outputs": [],
   "source": [
    "class Student:\n",
    "    def __init__(self, name, gpa):\n",
    "        self._name = name\n",
    "        self.__gpa = gpa\n",
    "        \n",
    "    def get_gpa(self):\n",
    "        return self.__gpa\n",
    "    \n",
    "    def set_gpa(self, value):\n",
    "        if 0.0 <= value <= 4.0:\n",
    "            self.__gpa = value\n",
    "        else:\n",
    "            print('Invalid GPA, must be between 0.0 and 4.0')"
   ]
  },
  {
   "cell_type": "code",
   "execution_count": 31,
   "id": "5de1ef1e",
   "metadata": {},
   "outputs": [
    {
     "name": "stdout",
     "output_type": "stream",
     "text": [
      "Byakuya Kucchiki\n",
      "4.0\n"
     ]
    }
   ],
   "source": [
    "s = Student('Byakuya Kucchiki', 4.0)\n",
    "print(s._name)  # Accessing private attribute via getter\n",
    "print(s.get_gpa())  # Accessing private attribute via getter"
   ]
  },
  {
   "cell_type": "code",
   "execution_count": 32,
   "id": "e8fbe9db",
   "metadata": {},
   "outputs": [],
   "source": [
    "class Student:\n",
    "    def __init__(self, gpa):\n",
    "        self._gpa = gpa\n",
    "    \n",
    "    @property    \n",
    "    def gpa(self):\n",
    "        return self._gpa\n",
    "    \n",
    "    @gpa.setter\n",
    "    def gpa(self, value):\n",
    "        if 0.0 <= value <= 4.0:\n",
    "            self.__gpa = value\n",
    "        else:\n",
    "            print('Invalid GPA, must be between 0.0 and 4.0')"
   ]
  },
  {
   "cell_type": "code",
   "execution_count": 37,
   "id": "e9017a47",
   "metadata": {},
   "outputs": [
    {
     "name": "stdout",
     "output_type": "stream",
     "text": [
      "3.9\n",
      "Invalid GPA, must be between 0.0 and 4.0\n"
     ]
    }
   ],
   "source": [
    "s = Student( 3.9)\n",
    "print(s.gpa)  # Accessing GPA via property\n",
    "s.gpa = 4.1  \n"
   ]
  }
 ],
 "metadata": {
  "kernelspec": {
   "display_name": "Python 3",
   "language": "python",
   "name": "python3"
  },
  "language_info": {
   "codemirror_mode": {
    "name": "ipython",
    "version": 3
   },
   "file_extension": ".py",
   "mimetype": "text/x-python",
   "name": "python",
   "nbconvert_exporter": "python",
   "pygments_lexer": "ipython3",
   "version": "3.13.0"
  }
 },
 "nbformat": 4,
 "nbformat_minor": 5
}
